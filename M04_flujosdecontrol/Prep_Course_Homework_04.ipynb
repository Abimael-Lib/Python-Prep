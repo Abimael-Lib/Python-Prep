{
 "cells": [
  {
   "attachments": {},
   "cell_type": "markdown",
   "metadata": {},
   "source": [
    "## Flujos de Control"
   ]
  },
  {
   "attachments": {},
   "cell_type": "markdown",
   "metadata": {},
   "source": [
    "1) Crear una variable que contenga un elemento del conjunto de números enteros y luego imprimir por pantalla si es mayor o menor a cero"
   ]
  },
  {
   "cell_type": "code",
   "execution_count": 39,
   "metadata": {},
   "outputs": [
    {
     "name": "stdout",
     "output_type": "stream",
     "text": [
      "es mayor a 0\n"
     ]
    }
   ],
   "source": [
    "entero = 6\n",
    "if entero > 0:\n",
    "    print(\"es mayor a 0\")\n",
    "else:\n",
    "    print(\"es menor a 0\")"
   ]
  },
  {
   "attachments": {},
   "cell_type": "markdown",
   "metadata": {},
   "source": [
    "2) Crear dos variables y un condicional que informe si son del mismo tipo de dato"
   ]
  },
  {
   "cell_type": "code",
   "execution_count": 40,
   "metadata": {},
   "outputs": [
    {
     "name": "stdout",
     "output_type": "stream",
     "text": [
      "son de distinto tipo\n"
     ]
    }
   ],
   "source": [
    "entero = 45\n",
    "estrin = \"webadas\"\n",
    "if type(entero) == type(estrin):\n",
    "    print(\"son del mismo tipo\")\n",
    "else:\n",
    "    print(\"son de distinto tipo\")"
   ]
  },
  {
   "attachments": {},
   "cell_type": "markdown",
   "metadata": {},
   "source": [
    "3) Para los valores enteros del 1 al 20, imprimir por pantalla si es par o impar"
   ]
  },
  {
   "cell_type": "code",
   "execution_count": 41,
   "metadata": {},
   "outputs": [
    {
     "name": "stdout",
     "output_type": "stream",
     "text": [
      "es impar\n",
      "es par\n",
      "es impar\n",
      "es par\n",
      "es impar\n",
      "es par\n",
      "es impar\n",
      "es par\n",
      "es impar\n",
      "es par\n",
      "es impar\n",
      "es par\n",
      "es impar\n",
      "es par\n",
      "es impar\n",
      "es par\n",
      "es impar\n",
      "es par\n",
      "es impar\n"
     ]
    }
   ],
   "source": [
    "for i in range(1, 20):\n",
    "    if i % 2 == 0:\n",
    "        print(\"es par\")\n",
    "    else:\n",
    "        print(\"es impar\")"
   ]
  },
  {
   "attachments": {},
   "cell_type": "markdown",
   "metadata": {},
   "source": [
    "4) En un ciclo for mostrar para los valores entre 0 y 5 el resultado de elevarlo a la potencia igual a 3"
   ]
  },
  {
   "cell_type": "code",
   "execution_count": 43,
   "metadata": {},
   "outputs": [
    {
     "name": "stdout",
     "output_type": "stream",
     "text": [
      "0\n",
      "1\n",
      "8\n",
      "27\n",
      "64\n"
     ]
    }
   ],
   "source": [
    "for i in range(0, 5):\n",
    "    print(i**3)"
   ]
  },
  {
   "attachments": {},
   "cell_type": "markdown",
   "metadata": {},
   "source": [
    "5) Crear una variable que contenga un número entero y realizar un ciclo for la misma cantidad de ciclos"
   ]
  },
  {
   "cell_type": "code",
   "execution_count": 44,
   "metadata": {},
   "outputs": [
    {
     "name": "stdout",
     "output_type": "stream",
     "text": [
      "0\n",
      "1\n",
      "2\n",
      "3\n",
      "4\n",
      "5\n"
     ]
    }
   ],
   "source": [
    "ent = 6\n",
    "for i in range(ent):\n",
    "    print(i)"
   ]
  },
  {
   "attachments": {},
   "cell_type": "markdown",
   "metadata": {},
   "source": [
    "6) Utilizar un ciclo while para realizar el factorial de un número guardado en una variable, sólo si la variable contiene un número entero mayor a 0"
   ]
  },
  {
   "cell_type": "code",
   "execution_count": 4,
   "metadata": {},
   "outputs": [
    {
     "name": "stdout",
     "output_type": "stream",
     "text": [
      "7\n",
      "42\n",
      "210\n",
      "840\n",
      "2520\n",
      "5040\n",
      "5040\n"
     ]
    }
   ],
   "source": [
    "numero = 7\n",
    "factorial = 1\n",
    "while numero > 0:\n",
    "    factorial = factorial * numero\n",
    "    numero -= 1\n",
    "    print(factorial)"
   ]
  },
  {
   "attachments": {},
   "cell_type": "markdown",
   "metadata": {},
   "source": [
    "7) Crear un ciclo for dentro de un ciclo while"
   ]
  },
  {
   "cell_type": "code",
   "execution_count": 9,
   "metadata": {},
   "outputs": [],
   "source": [
    "i = 2\n",
    "while i < 2:\n",
    "    for i in range(2):\n",
    "        i -= 1\n",
    "        print(i)"
   ]
  },
  {
   "attachments": {},
   "cell_type": "markdown",
   "metadata": {},
   "source": [
    "8) Crear un ciclo while dentro de un ciclo for"
   ]
  },
  {
   "cell_type": "code",
   "execution_count": 38,
   "metadata": {},
   "outputs": [
    {
     "name": "stdout",
     "output_type": "stream",
     "text": [
      "102posible impar\n",
      "105posible impar\n",
      "108posible impar\n",
      "111posible impar\n",
      "114posible impar\n",
      "117posible impar\n",
      "120posible impar\n",
      "123posible impar\n",
      "126posible impar\n",
      "129posible impar\n",
      "132posible impar\n",
      "135posible impar\n",
      "138posible impar\n",
      "141posible impar\n",
      "144posible impar\n",
      "147posible impar\n",
      "150posible impar\n",
      "153posible impar\n",
      "156posible impar\n",
      "159posible impar\n",
      "162posible impar\n",
      "165posible impar\n",
      "168posible impar\n",
      "171posible impar\n",
      "174posible impar\n",
      "177posible impar\n",
      "180posible impar\n",
      "183posible impar\n",
      "186posible impar\n",
      "189posible impar\n",
      "192posible impar\n",
      "195posible impar\n",
      "198posible impar\n",
      "201posible impar\n",
      "204posible impar\n",
      "207posible impar\n",
      "210posible impar\n",
      "213posible impar\n",
      "216posible impar\n",
      "219posible impar\n",
      "222posible impar\n",
      "225posible impar\n",
      "228posible impar\n",
      "231posible impar\n",
      "234posible impar\n",
      "237posible impar\n",
      "240posible impar\n",
      "243posible impar\n",
      "246posible impar\n",
      "249posible impar\n",
      "252posible impar\n",
      "255posible impar\n",
      "258posible impar\n",
      "261posible impar\n",
      "264posible impar\n",
      "267posible impar\n",
      "270posible impar\n",
      "273posible impar\n",
      "276posible impar\n",
      "279posible impar\n",
      "282posible impar\n",
      "285posible impar\n",
      "288posible impar\n",
      "291posible impar\n",
      "294posible impar\n",
      "297posible impar\n"
     ]
    }
   ],
   "source": [
    "for i in range(100, 300):\n",
    "    while i % 3 == 0:\n",
    "        print(str(i) +\"posible impar\")\n",
    "        break\n"
   ]
  },
  {
   "attachments": {},
   "cell_type": "markdown",
   "metadata": {},
   "source": [
    "9) Imprimir los números primos existentes entre 0 y 30"
   ]
  },
  {
   "cell_type": "code",
   "execution_count": 13,
   "metadata": {},
   "outputs": [
    {
     "name": "stdout",
     "output_type": "stream",
     "text": [
      "1\n",
      "3\n",
      "5\n",
      "7\n",
      "9\n",
      "11\n",
      "13\n",
      "15\n",
      "17\n",
      "19\n",
      "21\n",
      "23\n",
      "25\n",
      "27\n",
      "29\n"
     ]
    }
   ],
   "source": [
    "for i in range(30):\n",
    "    if i % 2 == 0:\n",
    "        continue\n",
    "    else:\n",
    "        print(i)"
   ]
  },
  {
   "attachments": {},
   "cell_type": "markdown",
   "metadata": {},
   "source": [
    "10) ¿Se puede mejorar el proceso del punto 9? Utilizar las sentencias break y/ó continue para tal fin"
   ]
  },
  {
   "cell_type": "code",
   "execution_count": null,
   "metadata": {},
   "outputs": [],
   "source": [
    "for i in range(30):\n",
    "    if i % 2 == 0:\n",
    "        continue\n",
    "    else:\n",
    "        print(i)"
   ]
  },
  {
   "attachments": {},
   "cell_type": "markdown",
   "metadata": {},
   "source": [
    "11) En los puntos 9 y 10, se diseño un código que encuentra números primos y además se lo optimizó. ¿Es posible saber en qué medida se optimizó?"
   ]
  },
  {
   "cell_type": "code",
   "execution_count": null,
   "metadata": {},
   "outputs": [],
   "source": [
    "que ?"
   ]
  },
  {
   "attachments": {},
   "cell_type": "markdown",
   "metadata": {},
   "source": [
    "12) Si la cantidad de números que se evalúa es mayor a treinta, esa optimización crece?"
   ]
  },
  {
   "cell_type": "code",
   "execution_count": null,
   "metadata": {},
   "outputs": [],
   "source": []
  },
  {
   "attachments": {},
   "cell_type": "markdown",
   "metadata": {},
   "source": [
    "13) Aplicando continue, armar un ciclo while que solo imprima los valores divisibles por 12, dentro del rango de números de 100 a 300"
   ]
  },
  {
   "cell_type": "code",
   "execution_count": 1,
   "metadata": {},
   "outputs": [
    {
     "name": "stdout",
     "output_type": "stream",
     "text": [
      "108\n",
      "120\n",
      "132\n",
      "144\n",
      "156\n",
      "168\n",
      "180\n",
      "192\n",
      "204\n",
      "216\n",
      "228\n",
      "240\n",
      "252\n",
      "264\n",
      "276\n",
      "288\n"
     ]
    }
   ],
   "source": [
    "for i in range(100, 300):\n",
    "    while i % 12 == 0:\n",
    "        print(i)\n",
    "        break"
   ]
  },
  {
   "attachments": {},
   "cell_type": "markdown",
   "metadata": {},
   "source": [
    "14) Utilizar la función **input()** que permite hacer ingresos por teclado, para encontrar números primos y dar la opción al usario de buscar el siguiente"
   ]
  },
  {
   "cell_type": "code",
   "execution_count": 23,
   "metadata": {},
   "outputs": [
    {
     "name": "stdout",
     "output_type": "stream",
     "text": [
      "Busca otro numero\n"
     ]
    }
   ],
   "source": [
    "numeroUsuario = int(input())\n",
    "if numeroUsuario % 2 == 0:\n",
    "    print(\"Busca otro numero\")\n",
    "else:\n",
    "    print(str(numeroUsuario) + \"ese esta bien pa\")"
   ]
  },
  {
   "attachments": {},
   "cell_type": "markdown",
   "metadata": {},
   "source": [
    "15) Crear un ciclo while que encuentre dentro del rango de 100 a 300 el primer número divisible por 3 y además múltiplo de 6"
   ]
  },
  {
   "cell_type": "code",
   "execution_count": 34,
   "metadata": {},
   "outputs": [
    {
     "name": "stdout",
     "output_type": "stream",
     "text": [
      "102numero encontrado\n"
     ]
    }
   ],
   "source": [
    "numero = 100 \n",
    "while numero <= 300:\n",
    "    numero += 1\n",
    "    if numero % 3 == 0 and numero % 6 == 0:\n",
    "        print( str(numero) + \"numero encontrado\")\n",
    "        break\n",
    "    "
   ]
  }
 ],
 "metadata": {
  "interpreter": {
   "hash": "c85384e4cb51c8b72350f3a8712cc8351fdc3955e32a27f9b60c6242ab125f01"
  },
  "kernelspec": {
   "display_name": "Python 3 (ipykernel)",
   "language": "python",
   "name": "python3"
  },
  "language_info": {
   "codemirror_mode": {
    "name": "ipython",
    "version": 3
   },
   "file_extension": ".py",
   "mimetype": "text/x-python",
   "name": "python",
   "nbconvert_exporter": "python",
   "pygments_lexer": "ipython3",
   "version": "3.11.2"
  }
 },
 "nbformat": 4,
 "nbformat_minor": 4
}
